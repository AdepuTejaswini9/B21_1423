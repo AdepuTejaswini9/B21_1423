{
  "nbformat": 4,
  "nbformat_minor": 0,
  "metadata": {
    "colab": {
      "provenance": [],
      "authorship_tag": "ABX9TyP6Q5p3Mat+eUWOnuDucpqr",
      "include_colab_link": true
    },
    "kernelspec": {
      "name": "python3",
      "display_name": "Python 3"
    },
    "language_info": {
      "name": "python"
    }
  },
  "cells": [
    {
      "cell_type": "markdown",
      "metadata": {
        "id": "view-in-github",
        "colab_type": "text"
      },
      "source": [
        "<a href=\"https://colab.research.google.com/github/AdepuTejaswini9/B21_1423/blob/main/LAB_1.ipynb\" target=\"_parent\"><img src=\"https://colab.research.google.com/assets/colab-badge.svg\" alt=\"Open In Colab\"/></a>"
      ]
    },
    {
      "cell_type": "code",
      "execution_count": 2,
      "metadata": {
        "colab": {
          "base_uri": "https://localhost:8080/"
        },
        "id": "t1-pMlh27fIk",
        "outputId": "ad9e0f33-ae18-4def-b268-7b8ac71a453b"
      },
      "outputs": [
        {
          "output_type": "stream",
          "name": "stdout",
          "text": [
            "enter the number5\n",
            "The Factioral 5 is 120\n"
          ]
        }
      ],
      "source": [
        "def Factioral(number):\n",
        "  fact=1\n",
        "  for i in range(1,number+1):\n",
        "    fact=fact*i\n",
        "  print(\"The Factioral\",number,\"is\",fact)\n",
        "\n",
        "number=int(input(\"enter the number\"))\n",
        "Factioral(number)"
      ]
    }
  ]
}