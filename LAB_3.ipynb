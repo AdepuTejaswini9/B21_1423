{
  "nbformat": 4,
  "nbformat_minor": 0,
  "metadata": {
    "colab": {
      "provenance": [],
      "authorship_tag": "ABX9TyNDTnXpT3mjp7VEXg2ax05n",
      "include_colab_link": true
    },
    "kernelspec": {
      "name": "python3",
      "display_name": "Python 3"
    },
    "language_info": {
      "name": "python"
    }
  },
  "cells": [
    {
      "cell_type": "markdown",
      "metadata": {
        "id": "view-in-github",
        "colab_type": "text"
      },
      "source": [
        "<a href=\"https://colab.research.google.com/github/AdepuTejaswini9/B21_1423/blob/main/LAB_3.ipynb\" target=\"_parent\"><img src=\"https://colab.research.google.com/assets/colab-badge.svg\" alt=\"Open In Colab\"/></a>"
      ]
    },
    {
      "cell_type": "code",
      "execution_count": 1,
      "metadata": {
        "id": "x06zAGiXYWKo"
      },
      "outputs": [],
      "source": [
        "import numpy as np"
      ]
    },
    {
      "cell_type": "code",
      "source": [
        "test_scores = np.random.randint(50, 101, size=(4, 4))\n",
        "print(test_scores)"
      ],
      "metadata": {
        "colab": {
          "base_uri": "https://localhost:8080/"
        },
        "id": "40jkh9KvYfKR",
        "outputId": "f624fb03-d9a2-4995-aba8-a5e5fefc9d82"
      },
      "execution_count": 3,
      "outputs": [
        {
          "output_type": "stream",
          "name": "stdout",
          "text": [
            "[[88 64 68 83]\n",
            " [80 96 90 97]\n",
            " [66 95 98 81]\n",
            " [81 81 66 90]]\n"
          ]
        }
      ]
    },
    {
      "cell_type": "code",
      "source": [
        "column_means = np.mean(test_scores, axis=0)\n",
        "row_means = np.mean(test_scores, axis=1)\n",
        "\n",
        "print(\"Column-wise means:\", column_means)\n",
        "print(\"Row-wise means:\", row_means)"
      ],
      "metadata": {
        "colab": {
          "base_uri": "https://localhost:8080/"
        },
        "id": "rRzJ_trRYeRi",
        "outputId": "422b544c-e1c7-45c2-d003-145d8a5062de"
      },
      "execution_count": 4,
      "outputs": [
        {
          "output_type": "stream",
          "name": "stdout",
          "text": [
            "Column-wise means: [78.75 84.   80.5  87.75]\n",
            "Row-wise means: [75.75 90.75 85.   79.5 ]\n"
          ]
        }
      ]
    },
    {
      "cell_type": "code",
      "source": [
        "std_dev = np.std(test_scores)\n",
        "variance = np.var(test_scores)\n",
        "\n",
        "print(\"Standard Deviation:\", std_dev)\n",
        "print(\"Variance:\", variance)"
      ],
      "metadata": {
        "colab": {
          "base_uri": "https://localhost:8080/"
        },
        "id": "4023EjTlYjnT",
        "outputId": "ceaab379-85d9-449a-b99a-1a46dc2b13b6"
      },
      "execution_count": 5,
      "outputs": [
        {
          "output_type": "stream",
          "name": "stdout",
          "text": [
            "Standard Deviation: 11.294356998076518\n",
            "Variance: 127.5625\n"
          ]
        }
      ]
    },
    {
      "cell_type": "code",
      "source": [
        "min_value = np.min(test_scores)\n",
        "max_value = np.max(test_scores)\n",
        "min_index = np.argmin(test_scores)\n",
        "max_index = np.argmax(test_scores)\n",
        "\n",
        "print(\"Minimum value:\", min_value)\n",
        "print(\"Maximum value:\", max_value)\n",
        "print(\"Index of minimum value:\", min_index)\n",
        "print(\"Index of maximum value:\", max_index)"
      ],
      "metadata": {
        "colab": {
          "base_uri": "https://localhost:8080/"
        },
        "id": "YnRYuKtpYjjs",
        "outputId": "06695039-0c49-4c51-9b81-afac48e33864"
      },
      "execution_count": 6,
      "outputs": [
        {
          "output_type": "stream",
          "name": "stdout",
          "text": [
            "Minimum value: 64\n",
            "Maximum value: 98\n",
            "Index of minimum value: 1\n",
            "Index of maximum value: 10\n"
          ]
        }
      ]
    },
    {
      "cell_type": "code",
      "source": [
        "print(\"Statistical Analysis Summary:\")\n",
        "print(f\"Row-wise means: {row_means}\")\n",
        "print(f\"Column-wise means: {column_means}\")\n",
        "print(f\"Overall Standard Deviation: {std_dev}\")\n",
        "print(f\"Overall Variance: {variance}\")\n",
        "print(f\"Global Minimum Value: {min_value} (Index: {min_index})\")\n",
        "print(f\"Global Maximum Value: {max_value} (Index: {max_index})\")"
      ],
      "metadata": {
        "colab": {
          "base_uri": "https://localhost:8080/"
        },
        "id": "cMC_S7V1Yjhc",
        "outputId": "ab95ca66-cec7-4803-c576-9c16dd4c37ab"
      },
      "execution_count": 7,
      "outputs": [
        {
          "output_type": "stream",
          "name": "stdout",
          "text": [
            "Statistical Analysis Summary:\n",
            "Row-wise means: [75.75 90.75 85.   79.5 ]\n",
            "Column-wise means: [78.75 84.   80.5  87.75]\n",
            "Overall Standard Deviation: 11.294356998076518\n",
            "Overall Variance: 127.5625\n",
            "Global Minimum Value: 64 (Index: 1)\n",
            "Global Maximum Value: 98 (Index: 10)\n"
          ]
        }
      ]
    },
    {
      "cell_type": "code",
      "source": [
        "rgb_image = np.random.randint(0, 256, size=(3, 3, 3))\n",
        "print(rgb_image)"
      ],
      "metadata": {
        "colab": {
          "base_uri": "https://localhost:8080/"
        },
        "id": "kE7lcwSvYjev",
        "outputId": "b7d871ff-5065-4e4a-eea2-70d168d9c743"
      },
      "execution_count": 8,
      "outputs": [
        {
          "output_type": "stream",
          "name": "stdout",
          "text": [
            "[[[124   3  27]\n",
            "  [  8  90 175]\n",
            "  [120 117  61]]\n",
            "\n",
            " [[167  98  26]\n",
            "  [213  71 134]\n",
            "  [197  71  92]]\n",
            "\n",
            " [[121 193  35]\n",
            "  [150 196 171]\n",
            "  [ 89 103 176]]]\n"
          ]
        }
      ]
    },
    {
      "cell_type": "code",
      "source": [
        "red_channel = rgb_image[:, :, 0]\n",
        "green_channel = rgb_image[:, :, 1]\n",
        "blue_channel = rgb_image[:, :, 2]\n",
        "print(\"Red Channel:\\n\", red_channel)\n",
        "print(\"Green Channel:\\n\", green_channel)\n",
        "print(\"Blue Channel:\\n\", blue_channel)"
      ],
      "metadata": {
        "colab": {
          "base_uri": "https://localhost:8080/"
        },
        "id": "kZzbr2YfYjcQ",
        "outputId": "d0d45126-d8b2-46c2-d9ef-39fefffcb3d8"
      },
      "execution_count": 9,
      "outputs": [
        {
          "output_type": "stream",
          "name": "stdout",
          "text": [
            "Red Channel:\n",
            " [[124   8 120]\n",
            " [167 213 197]\n",
            " [121 150  89]]\n",
            "Green Channel:\n",
            " [[  3  90 117]\n",
            " [ 98  71  71]\n",
            " [193 196 103]]\n",
            "Blue Channel:\n",
            " [[ 27 175  61]\n",
            " [ 26 134  92]\n",
            " [ 35 171 176]]\n"
          ]
        }
      ]
    },
    {
      "cell_type": "code",
      "source": [
        "red_mean = np.mean(red_channel)\n",
        "green_mean = np.mean(green_channel)\n",
        "blue_mean = np.mean(blue_channel)\n",
        "print(f\"Average pixel intensity for Red channel: {red_mean}\")\n",
        "print(f\"Average pixel intensity for Green channel: {green_mean}\")\n",
        "print(f\"Average pixel intensity for Blue channel: {blue_mean}\")"
      ],
      "metadata": {
        "colab": {
          "base_uri": "https://localhost:8080/"
        },
        "id": "gZGpF_99YjZ6",
        "outputId": "30811c4f-9e7e-4f29-b6f5-5546a7a90073"
      },
      "execution_count": 10,
      "outputs": [
        {
          "output_type": "stream",
          "name": "stdout",
          "text": [
            "Average pixel intensity for Red channel: 132.11111111111111\n",
            "Average pixel intensity for Green channel: 104.66666666666667\n",
            "Average pixel intensity for Blue channel: 99.66666666666667\n"
          ]
        }
      ]
    },
    {
      "cell_type": "code",
      "source": [
        "brightness_increase = 50\n",
        "brightened_image = np.clip(rgb_image + brightness_increase, 0, 255)\n",
        "print(\"Brightened Image (clipped at 255):\\n\", brightened_image)"
      ],
      "metadata": {
        "colab": {
          "base_uri": "https://localhost:8080/"
        },
        "id": "zuNX8LNJY31C",
        "outputId": "27eb854f-a83d-4c40-87cf-2ce41d76a580"
      },
      "execution_count": 11,
      "outputs": [
        {
          "output_type": "stream",
          "name": "stdout",
          "text": [
            "Brightened Image (clipped at 255):\n",
            " [[[174  53  77]\n",
            "  [ 58 140 225]\n",
            "  [170 167 111]]\n",
            "\n",
            " [[217 148  76]\n",
            "  [255 121 184]\n",
            "  [247 121 142]]\n",
            "\n",
            " [[171 243  85]\n",
            "  [200 246 221]\n",
            "  [139 153 226]]]\n"
          ]
        }
      ]
    },
    {
      "cell_type": "code",
      "source": [
        "print(\"Statistical Analysis Summary:\")\n",
        "print(\"Red Channel:\\n\", red_channel)\n",
        "print(\"Green Channel:\\n\", green_channel)\n",
        "print(\"Blue Channel:\\n\", blue_channel)\n",
        "print(f\"\\nAverage pixel intensity for Red channel: {red_mean}\")\n",
        "print(f\"Average pixel intensity for Green channel: {green_mean}\")\n",
        "print(f\"Average pixel intensity for Blue channel: {blue_mean}\")\n",
        "print(\"\\nBrightened Image (clipped at 255):\\n\", brightened_image)"
      ],
      "metadata": {
        "colab": {
          "base_uri": "https://localhost:8080/"
        },
        "id": "qP2g9dggYjXq",
        "outputId": "75aa028f-315a-463c-9c26-de7477a3c07d"
      },
      "execution_count": 12,
      "outputs": [
        {
          "output_type": "stream",
          "name": "stdout",
          "text": [
            "Statistical Analysis Summary:\n",
            "Red Channel:\n",
            " [[124   8 120]\n",
            " [167 213 197]\n",
            " [121 150  89]]\n",
            "Green Channel:\n",
            " [[  3  90 117]\n",
            " [ 98  71  71]\n",
            " [193 196 103]]\n",
            "Blue Channel:\n",
            " [[ 27 175  61]\n",
            " [ 26 134  92]\n",
            " [ 35 171 176]]\n",
            "\n",
            "Average pixel intensity for Red channel: 132.11111111111111\n",
            "Average pixel intensity for Green channel: 104.66666666666667\n",
            "Average pixel intensity for Blue channel: 99.66666666666667\n",
            "\n",
            "Brightened Image (clipped at 255):\n",
            " [[[174  53  77]\n",
            "  [ 58 140 225]\n",
            "  [170 167 111]]\n",
            "\n",
            " [[217 148  76]\n",
            "  [255 121 184]\n",
            "  [247 121 142]]\n",
            "\n",
            " [[171 243  85]\n",
            "  [200 246 221]\n",
            "  [139 153 226]]]\n"
          ]
        }
      ]
    }
  ]
}