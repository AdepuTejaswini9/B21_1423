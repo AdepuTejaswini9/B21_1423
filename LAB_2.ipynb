{
  "nbformat": 4,
  "nbformat_minor": 0,
  "metadata": {
    "colab": {
      "provenance": [],
      "authorship_tag": "ABX9TyMAuXdgGrOQJtdYA+2yG95x",
      "include_colab_link": true
    },
    "kernelspec": {
      "name": "python3",
      "display_name": "Python 3"
    },
    "language_info": {
      "name": "python"
    }
  },
  "cells": [
    {
      "cell_type": "markdown",
      "metadata": {
        "id": "view-in-github",
        "colab_type": "text"
      },
      "source": [
        "<a href=\"https://colab.research.google.com/github/AdepuTejaswini9/B21_1423/blob/main/LAB_2.ipynb\" target=\"_parent\"><img src=\"https://colab.research.google.com/assets/colab-badge.svg\" alt=\"Open In Colab\"/></a>"
      ]
    },
    {
      "cell_type": "code",
      "execution_count": 4,
      "metadata": {
        "colab": {
          "base_uri": "https://localhost:8080/"
        },
        "id": "Q4Ct-NteTG8V",
        "outputId": "4d14c011-6039-4982-9f5f-336a1762eee7"
      },
      "outputs": [
        {
          "output_type": "stream",
          "name": "stdout",
          "text": [
            "Student Marks:\n",
            " [[85 78 92]\n",
            " [76 88 69]\n",
            " [90 91 85]]\n"
          ]
        }
      ],
      "source": [
        "import numpy as np\n",
        "marks = np.array([\n",
        "    [85, 78, 92],\n",
        "    [76, 88, 69],\n",
        "    [90, 91, 85],\n",
        "    ])\n",
        "print(\"Student Marks:\\n\",marks)"
      ]
    },
    {
      "cell_type": "markdown",
      "source": [
        "**Calculate average, minimum, and maximum markst**"
      ],
      "metadata": {
        "id": "aFQLTnY7U0FM"
      }
    },
    {
      "cell_type": "code",
      "source": [
        "avg_stu=np.mean(marks, axis=1)\n",
        "print(\"\\nAverage marks per student:\",avg_stu)\n",
        "\n",
        "min_stu=np.min(marks, axis=0)\n",
        "print(\"\\nMinimum marks per student:\",min_stu)\n",
        "\n",
        "max_stu=np.max(marks, axis=0)\n",
        "print(\"\\nMaximum marks per student:\",max_stu)\n"
      ],
      "metadata": {
        "id": "vghTRzH4UxyZ",
        "colab": {
          "base_uri": "https://localhost:8080/"
        },
        "outputId": "c43d4393-7285-4408-be79-d5872d7e5179"
      },
      "execution_count": 5,
      "outputs": [
        {
          "output_type": "stream",
          "name": "stdout",
          "text": [
            "\n",
            "Average marks per student: [85.         77.66666667 88.66666667]\n",
            "\n",
            "Minimum marks per student: [76 78 69]\n",
            "\n",
            "Maximum marks per student: [90 91 92]\n"
          ]
        }
      ]
    },
    {
      "cell_type": "markdown",
      "source": [
        "**Use slicing to retrieve marks of specific students**"
      ],
      "metadata": {
        "id": "982Ho7mru8ww"
      }
    },
    {
      "cell_type": "code",
      "source": [
        "print(\"Marks of student 1:\",marks[0])\n",
        "\n",
        "print(\"Marks of first 3 students :\\n\",marks[:3])"
      ],
      "metadata": {
        "colab": {
          "base_uri": "https://localhost:8080/"
        },
        "id": "Uq8UKHSevD8j",
        "outputId": "05a962de-28d3-4b96-d631-7bff426b2dcd"
      },
      "execution_count": 6,
      "outputs": [
        {
          "output_type": "stream",
          "name": "stdout",
          "text": [
            "Marks of student 1: [85 78 92]\n",
            "Marks of first 3 students :\n",
            " [[85 78 92]\n",
            " [76 88 69]\n",
            " [90 91 85]]\n"
          ]
        }
      ]
    },
    {
      "cell_type": "markdown",
      "source": [
        "**Use boolean indexing to find students scoring above 80 in all subjects**"
      ],
      "metadata": {
        "id": "fDfKfxT9wQPs"
      }
    },
    {
      "cell_type": "code",
      "source": [
        "high_achievers = marks[np.all(marks > 80, axis=1)]\n",
        "print(\"\\nStudents scoring above 80 in all subjects:\\n\", high_achievers)"
      ],
      "metadata": {
        "id": "MldkmoOzwNqR",
        "colab": {
          "base_uri": "https://localhost:8080/"
        },
        "outputId": "6764b28b-3472-47c7-cbe4-073d51dc4e16"
      },
      "execution_count": 7,
      "outputs": [
        {
          "output_type": "stream",
          "name": "stdout",
          "text": [
            "\n",
            "Students scoring above 80 in all subjects:\n",
            " [[90 91 85]]\n"
          ]
        }
      ]
    },
    {
      "cell_type": "markdown",
      "source": [
        "**Reshape array to observe subject-wise performance**"
      ],
      "metadata": {
        "id": "ROYbWOZs5f72"
      }
    },
    {
      "cell_type": "code",
      "source": [
        "subject_wise = marks.T\n",
        "print(\"\\nSubject-wise performance:\\n\", subject_wise)"
      ],
      "metadata": {
        "colab": {
          "base_uri": "https://localhost:8080/"
        },
        "id": "HttS96_W5fil",
        "outputId": "fa55af59-c9e1-4c70-adcb-cdfe9f5f6d65"
      },
      "execution_count": 8,
      "outputs": [
        {
          "output_type": "stream",
          "name": "stdout",
          "text": [
            "\n",
            "Subject-wise performance:\n",
            " [[85 76 90]\n",
            " [78 88 91]\n",
            " [92 69 85]]\n"
          ]
        }
      ]
    },
    {
      "cell_type": "markdown",
      "source": [
        "**Brief Analysis of Results**"
      ],
      "metadata": {
        "id": "OC2f-Qk85wUC"
      }
    },
    {
      "cell_type": "code",
      "source": [
        "print(\"1.Student 3 has scored consistently high.\")\n",
        "print(\"2.Subject 3 has the highest average performance\")\n",
        "print(\"3.1 student(s) scored above 80 in all subjects.\")"
      ],
      "metadata": {
        "colab": {
          "base_uri": "https://localhost:8080/"
        },
        "id": "Xro6m4oJ50d7",
        "outputId": "244e57ab-c392-44ba-de8f-bd7c466a00ac"
      },
      "execution_count": 10,
      "outputs": [
        {
          "output_type": "stream",
          "name": "stdout",
          "text": [
            "1.Student 3 has scored consistently high.\n",
            "2.Subject 3 has the highest average performance\n",
            "3.1 student(s) scored above 80 in all subjects.\n"
          ]
        }
      ]
    }
  ]
}