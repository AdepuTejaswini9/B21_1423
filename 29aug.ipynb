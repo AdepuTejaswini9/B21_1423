{
  "nbformat": 4,
  "nbformat_minor": 0,
  "metadata": {
    "colab": {
      "provenance": [],
      "authorship_tag": "ABX9TyNQDsUwQaAN1J1LyjIbtILj",
      "include_colab_link": true
    },
    "kernelspec": {
      "name": "python3",
      "display_name": "Python 3"
    },
    "language_info": {
      "name": "python"
    }
  },
  "cells": [
    {
      "cell_type": "markdown",
      "metadata": {
        "id": "view-in-github",
        "colab_type": "text"
      },
      "source": [
        "<a href=\"https://colab.research.google.com/github/AdepuTejaswini9/B21_1423/blob/main/29aug.ipynb\" target=\"_parent\"><img src=\"https://colab.research.google.com/assets/colab-badge.svg\" alt=\"Open In Colab\"/></a>"
      ]
    },
    {
      "cell_type": "code",
      "execution_count": null,
      "metadata": {
        "colab": {
          "base_uri": "https://localhost:8080/"
        },
        "id": "EvIEWhGc7tCQ",
        "outputId": "2380987e-85e8-485d-bd57-8e41cbe4be2d"
      },
      "outputs": [
        {
          "output_type": "stream",
          "name": "stdout",
          "text": [
            "pandsa Series:\n",
            "0    10\n",
            "1    20\n",
            "2    30\n",
            "3    40\n",
            "4    50\n",
            "dtype: int64\n"
          ]
        }
      ],
      "source": [
        "import pandas as pd\n",
        "#create a series from list\n",
        "data = [10,20,30,40,50]\n",
        "series = pd.Series(data)\n",
        "print(\"pandsa Series:\")\n",
        "print(series)"
      ]
    },
    {
      "cell_type": "code",
      "source": [
        "#creating a custom index\n",
        "data=[10,20,30,40,50]\n",
        "index_labels=['a','b','c','d','e']\n",
        "series=pd.Series(data,index=index_labels)\n",
        "print(\"pandas series:\")\n",
        "print(series)"
      ],
      "metadata": {
        "colab": {
          "base_uri": "https://localhost:8080/"
        },
        "id": "J2uGVCbE8Y9J",
        "outputId": "1d0282b2-ec41-4f4a-d95d-fc8549754b0d"
      },
      "execution_count": null,
      "outputs": [
        {
          "output_type": "stream",
          "name": "stdout",
          "text": [
            "pandas series:\n",
            "a    10\n",
            "b    20\n",
            "c    30\n",
            "d    40\n",
            "e    50\n",
            "dtype: int64\n"
          ]
        }
      ]
    },
    {
      "cell_type": "code",
      "source": [
        "#create a data frame\n",
        "data={\n",
        "    \"name\":['alice','bob','charlie','david'],\n",
        "    \"age\":[25,30,22,28],\n",
        "    \"city\":['new york','san francisco','chicago','los angeles']\n",
        "}\n",
        "df=pd.DataFrame(data)\n",
        "print(\"pandas dataframe:\")\n",
        "print(df)\n"
      ],
      "metadata": {
        "colab": {
          "base_uri": "https://localhost:8080/"
        },
        "id": "aeqN_clF9d9c",
        "outputId": "da12bc98-e455-4753-cfb1-ada35400dbb3"
      },
      "execution_count": null,
      "outputs": [
        {
          "output_type": "stream",
          "name": "stdout",
          "text": [
            "pandas dataframe:\n",
            "      name  age           city\n",
            "0    alice   25       new york\n",
            "1      bob   30  san francisco\n",
            "2  charlie   22        chicago\n",
            "3    david   28    los angeles\n"
          ]
        }
      ]
    },
    {
      "cell_type": "code",
      "source": [
        "#accesing Data\n",
        "#single column\n",
        "print(df['name'])\n",
        "#multiple columns\n",
        "print(df[['name','age']])\n",
        "#rows using index\n",
        "print(df.iloc[1])\n",
        "print(df.loc[2])\n",
        "#adding a new column\n",
        "df['Salary'] = [4000,5000,6000,7000]\n",
        "print(df)\n",
        "#remove column\n",
        "df=df.drop('city',axis=1)\n",
        "print(df)"
      ],
      "metadata": {
        "colab": {
          "base_uri": "https://localhost:8080/"
        },
        "id": "pzMOlKFc-zei",
        "outputId": "1e85ca30-f9b2-4b38-cdff-33217fc1bc70"
      },
      "execution_count": null,
      "outputs": [
        {
          "output_type": "stream",
          "name": "stdout",
          "text": [
            "0      alice\n",
            "1        bob\n",
            "2    charlie\n",
            "3      david\n",
            "Name: name, dtype: object\n",
            "      name  age\n",
            "0    alice   25\n",
            "1      bob   30\n",
            "2  charlie   22\n",
            "3    david   28\n",
            "name              bob\n",
            "age                30\n",
            "city    san francisco\n",
            "Name: 1, dtype: object\n",
            "name    charlie\n",
            "age          22\n",
            "city    chicago\n",
            "Name: 2, dtype: object\n",
            "      name  age           city  Salary\n",
            "0    alice   25       new york    4000\n",
            "1      bob   30  san francisco    5000\n",
            "2  charlie   22        chicago    6000\n",
            "3    david   28    los angeles    7000\n",
            "      name  age  Salary\n",
            "0    alice   25    4000\n",
            "1      bob   30    5000\n",
            "2  charlie   22    6000\n",
            "3    david   28    7000\n"
          ]
        }
      ]
    },
    {
      "cell_type": "code",
      "source": [
        "#filtering data->select rows where age>30\n",
        "print(df[df['age']>30])\n",
        "\n",
        "#Basic stat\n",
        "print(df['age'].mean())\n",
        "print(df['age'].max())\n",
        "print(df['age'].min())"
      ],
      "metadata": {
        "colab": {
          "base_uri": "https://localhost:8080/"
        },
        "id": "Ct586NTxA4YE",
        "outputId": "86e4b165-057e-4c46-e8dc-fc87be4d3efd"
      },
      "execution_count": null,
      "outputs": [
        {
          "output_type": "stream",
          "name": "stdout",
          "text": [
            "Empty DataFrame\n",
            "Columns: [name, age, Salary]\n",
            "Index: []\n",
            "26.25\n",
            "30\n",
            "22\n"
          ]
        }
      ]
    },
    {
      "cell_type": "code",
      "source": [
        "#student data\n",
        "#creating a dataframe\n",
        "student_data={\n",
        "    'student_id':[1,2,3,4,5],\n",
        "    'name':['alice','bob','charlie','david','emily'],\n",
        "    'Marks':[20,22,21,19,23],\n",
        "    'department':['computer science','engineering','computer science','engineering','computer science']\n",
        "}\n",
        "df=pd.DataFrame(student_data)\n",
        "#display full dataframe\n",
        "print(\"student data\")\n",
        "print(df)\n",
        "\n",
        "#find student\n",
        "print(\"\\nStudent with marks greater than 20\")\n",
        "print(df[df['Marks']>20])\n",
        "\n",
        "#Avg marks\n",
        "print(\"\\nAvg marks\",df['Marks'].mean())\n",
        "\n",
        "#add new column\n",
        "df['result']=['pass' if marks>=20 else 'fail' for marks in df['Marks']]\n",
        "print(\"\\nUpdated dataframe\")\n",
        "print(df)"
      ],
      "metadata": {
        "colab": {
          "base_uri": "https://localhost:8080/"
        },
        "id": "rbSJSNHrCo6t",
        "outputId": "4cc2ccde-6931-4cba-a2e7-21ceb2b53615"
      },
      "execution_count": null,
      "outputs": [
        {
          "output_type": "stream",
          "name": "stdout",
          "text": [
            "student data\n",
            "   student_id     name  Marks        department\n",
            "0           1    alice     20  computer science\n",
            "1           2      bob     22       engineering\n",
            "2           3  charlie     21  computer science\n",
            "3           4    david     19       engineering\n",
            "4           5    emily     23  computer science\n",
            "\n",
            "Student with marks greater than 20\n",
            "   student_id     name  Marks        department\n",
            "1           2      bob     22       engineering\n",
            "2           3  charlie     21  computer science\n",
            "4           5    emily     23  computer science\n",
            "\n",
            "Avg marks 21.0\n",
            "\n",
            "Updated dataframe\n",
            "   student_id     name  Marks        department result\n",
            "0           1    alice     20  computer science   pass\n",
            "1           2      bob     22       engineering   pass\n",
            "2           3  charlie     21  computer science   pass\n",
            "3           4    david     19       engineering   fail\n",
            "4           5    emily     23  computer science   pass\n"
          ]
        }
      ]
    },
    {
      "cell_type": "code",
      "source": [
        "stu_data={\n",
        "    'stu_name':['teju','keerthi','sindhu','shailaja','sanjana'],\n",
        "    'stu_rollno':[1,2,3,4,5],\n",
        "    'M1':[90,82,92,95,91],\n",
        "    'M2':[92,81,92,96,95],\n",
        "    'M3':[93,85,95,92,97],\n",
        "}\n",
        "\n",
        "df = pd.DataFrame(stu_data)\n",
        "\n",
        "total=df['M1']+df['M2']+df['M3']\n",
        "df['total']=total\n",
        "\n",
        "result=['pass' if total>=270 else 'fail' for total in df['total']]\n",
        "df['result']=result\n",
        "\n",
        "avg=df['total']/3\n",
        "df['average']=avg\n",
        "\n",
        "print(df)"
      ],
      "metadata": {
        "colab": {
          "base_uri": "https://localhost:8080/"
        },
        "id": "7PkHxdecEsfs",
        "outputId": "0c9737dd-0ac6-400d-ca0e-8a44d71f8cbd"
      },
      "execution_count": 28,
      "outputs": [
        {
          "output_type": "stream",
          "name": "stdout",
          "text": [
            "   stu_name  stu_rollno  M1  M2  M3  total result    average\n",
            "0      teju           1  90  92  93    275   pass  91.666667\n",
            "1   keerthi           2  82  81  85    248   fail  82.666667\n",
            "2    sindhu           3  92  92  95    279   pass  93.000000\n",
            "3  shailaja           4  95  96  92    283   pass  94.333333\n",
            "4   sanjana           5  91  95  97    283   pass  94.333333\n"
          ]
        }
      ]
    },
    {
      "cell_type": "code",
      "source": [],
      "metadata": {
        "id": "h7A27pmTGuAj"
      },
      "execution_count": null,
      "outputs": []
    }
  ]
}